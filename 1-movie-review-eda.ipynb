{
 "cells": [
  {
   "cell_type": "markdown",
   "metadata": {},
   "source": [
    "# I. 영화 리뷰 데이터 탐색적 분석(EDA)"
   ]
  },
  {
   "cell_type": "markdown",
   "metadata": {},
   "source": [
    "---\n",
    "### 1) 데이터 로드 : dataframe (pandas module 사용)  \n",
    "네이버 영화평 데이터셋 : https://github.com/e9t/nsmc"
   ]
  },
  {
   "cell_type": "code",
   "execution_count": null,
   "metadata": {},
   "outputs": [],
   "source": [
    "import warnings\n",
    "warnings.simplefilter(action='ignore', category=FutureWarning) # 경고 메시지 안보이게 설정\n",
    "\n",
    "import gc # garbage collector : 메모리 관리\n",
    "gc.collect()"
   ]
  },
  {
   "cell_type": "code",
   "execution_count": null,
   "metadata": {},
   "outputs": [],
   "source": [
    "import os"
   ]
  },
  {
   "cell_type": "markdown",
   "metadata": {},
   "source": [
    "---\n",
    "전역 변수 중 일부(디렉토리 이름과 파일 이름 등)는 대문자로  \n",
    "나머지 변수는 소문자로"
   ]
  },
  {
   "cell_type": "code",
   "execution_count": null,
   "metadata": {},
   "outputs": [],
   "source": [
    "# 파일 경로는 단순히 문자열 연결보다는 os.path.join()을 사용하는 것이 좋음 \n",
    "DATA_DIR = 'data'\n",
    "\n",
    "TRAIN_DATA_FILE = 'ratings_train.txt'\n",
    "TEST_DATA_FILE = 'ratings_test.txt'\n",
    "\n",
    "TRAIN_DATA_PATH = os.path.join(DATA_DIR, TRAIN_DATA_FILE)\n",
    "TEST_DATA_PATH = os.path.join(DATA_DIR, TEST_DATA_FILE)"
   ]
  },
  {
   "cell_type": "code",
   "execution_count": null,
   "metadata": {},
   "outputs": [],
   "source": [
    "import pandas as pd"
   ]
  },
  {
   "cell_type": "code",
   "execution_count": null,
   "metadata": {},
   "outputs": [],
   "source": [
    "# pandas data frame\n",
    "train_df = pd.read_table(TRAIN_DATA_PATH) # pd.read_csv(TRAIN_DATA_PATH, sep='\\t') 동일한 기능\n",
    "test_df = pd.read_table(TEST_DATA_PATH)"
   ]
  },
  {
   "cell_type": "markdown",
   "metadata": {},
   "source": [
    "---\n",
    "### 2) 데이터 기본 정보 보기"
   ]
  },
  {
   "cell_type": "markdown",
   "metadata": {},
   "source": [
    "---\n",
    "#### (가) train dataset"
   ]
  },
  {
   "cell_type": "code",
   "execution_count": null,
   "metadata": {},
   "outputs": [],
   "source": [
    "train_df.head() # 맨 위 5개 행"
   ]
  },
  {
   "cell_type": "markdown",
   "metadata": {},
   "source": [
    "label : 0 부정 평가, 1 긍정 평가  \n",
    "\n",
    "---"
   ]
  },
  {
   "cell_type": "code",
   "execution_count": null,
   "metadata": {},
   "outputs": [],
   "source": [
    "# 특정 행 데이터 보기\n",
    "print(train_df.loc[0]) # 인덱스 번호로 데이터(행) 불러오기\n",
    "print('----------')\n",
    "print(train_df.iloc[0]) # 행번호로 데이터(행) 불러오기, 인덱스가 없으므로 위와 동일\n",
    "print('----------')\n",
    "print(train_df[train_df['id']==9976970]) # id 값이 9976970인 데이터(행) 불러오기"
   ]
  },
  {
   "cell_type": "code",
   "execution_count": null,
   "metadata": {},
   "outputs": [],
   "source": [
    "train_df.info() # 데이터프레임의 기본 정보 보기"
   ]
  },
  {
   "cell_type": "code",
   "execution_count": null,
   "metadata": {},
   "outputs": [],
   "source": [
    "train_df.describe() # 숫자 데이터에 대한 통계정보, 이 데이터에는 별 소용이 없음"
   ]
  },
  {
   "cell_type": "code",
   "execution_count": null,
   "metadata": {},
   "outputs": [],
   "source": [
    "train_df.shape"
   ]
  },
  {
   "cell_type": "markdown",
   "metadata": {},
   "source": [
    "---\n",
    "#### (나) test dataset :"
   ]
  },
  {
   "cell_type": "code",
   "execution_count": null,
   "metadata": {},
   "outputs": [],
   "source": [
    "test_df.head()"
   ]
  },
  {
   "cell_type": "code",
   "execution_count": null,
   "metadata": {},
   "outputs": [],
   "source": [
    "test_df.info()"
   ]
  },
  {
   "cell_type": "code",
   "execution_count": null,
   "metadata": {},
   "outputs": [],
   "source": [
    "test_df.describe()"
   ]
  },
  {
   "cell_type": "code",
   "execution_count": null,
   "metadata": {},
   "outputs": [],
   "source": [
    "test_df.shape"
   ]
  },
  {
   "cell_type": "markdown",
   "metadata": {},
   "source": [
    "---\n",
    "### 3) 결측 데이터 처리 : nul 데이터는 통계분석에 방해가 되므로 먼저 제거한다."
   ]
  },
  {
   "cell_type": "code",
   "execution_count": null,
   "metadata": {},
   "outputs": [],
   "source": [
    "print('null data가 있는가? : ', train_df.isnull().values.any())\n",
    "print('----------')\n",
    "print('null data 건수 \\n', '-----\\n', train_df.isnull().sum())"
   ]
  },
  {
   "cell_type": "code",
   "execution_count": null,
   "metadata": {},
   "outputs": [],
   "source": [
    "# null 값 데이터 행 출력\n",
    "train_df[train_df['document'].isnull()]"
   ]
  },
  {
   "cell_type": "code",
   "execution_count": null,
   "metadata": {},
   "outputs": [],
   "source": [
    "train_no_nan_df = train_df.dropna(axis=0) # nan이 있는 모든 row를 없애는 코드\n",
    "test_no_nan_df = test_df.dropna(axis=0)\n",
    "# train_data_df['document'] = train_data_df['document'].fillna('S') # nan에 다른 데이터를 대신 넣는 방법"
   ]
  },
  {
   "cell_type": "code",
   "execution_count": null,
   "metadata": {},
   "outputs": [],
   "source": [
    "# nul 값 제거 확인\n",
    "print('train data에 null data가 있는가? : ', train_no_nan_df.isnull().values.any())\n",
    "print('test data에 null data가 있는가? : ', test_no_nan_df.isnull().values.any())"
   ]
  },
  {
   "cell_type": "code",
   "execution_count": null,
   "metadata": {},
   "outputs": [],
   "source": [
    "# dataset의 shape 출력\n",
    "print('shape of no nan train data : ', train_no_nan_df.shape)\n",
    "print('shape of no nan test data : ', test_no_nan_df.shape)"
   ]
  },
  {
   "cell_type": "markdown",
   "metadata": {},
   "source": [
    "---\n",
    "### 4) EDA (Exploratory Data Analysis; 탐색적 데이터 분석)"
   ]
  },
  {
   "cell_type": "code",
   "execution_count": null,
   "metadata": {},
   "outputs": [],
   "source": [
    "import matplotlib.pyplot as plt\n",
    "import seaborn as sns"
   ]
  },
  {
   "cell_type": "markdown",
   "metadata": {},
   "source": [
    "---\n",
    "train dataset의 긍정평가(label:1)와 부정평가(label:0) 건수"
   ]
  },
  {
   "cell_type": "code",
   "execution_count": null,
   "metadata": {},
   "outputs": [],
   "source": [
    "fig, axe = plt.subplots(ncols=1)\n",
    "fig.set_size_inches(6, 3)\n",
    "sns.countplot(train_no_nan_df['label'])"
   ]
  },
  {
   "cell_type": "code",
   "execution_count": null,
   "metadata": {},
   "outputs": [],
   "source": [
    "print(train_no_nan_df.groupby('label').size().reset_index(name = 'count'))"
   ]
  },
  {
   "cell_type": "code",
   "execution_count": null,
   "metadata": {},
   "outputs": [],
   "source": [
    "fig, axe = plt.subplots(ncols=1)\n",
    "fig.set_size_inches(6, 3)\n",
    "sns.countplot(test_no_nan_df['label'])"
   ]
  },
  {
   "cell_type": "code",
   "execution_count": null,
   "metadata": {},
   "outputs": [],
   "source": [
    "print(test_no_nan_df.groupby('label').size().reset_index(name = 'count'))"
   ]
  },
  {
   "cell_type": "markdown",
   "metadata": {},
   "source": [
    "---\n",
    "#### (가) 문장의 길이(글자수) 분포 조사"
   ]
  },
  {
   "cell_type": "code",
   "execution_count": null,
   "metadata": {},
   "outputs": [],
   "source": [
    "train_length = train_no_nan_df['document'].apply(len) # 이런식으로 쓰면 데이터가 없는 행에서 아래와 같은 에러가 난다.\n",
    "# TypeError: object of type 'float' has no len()\n",
    "test_length = test_no_nan_df['document'].apply(len)\n",
    "\n",
    "# train_length = train_no_nan_df['document'].str.len() # NaN 값이 있는 경우 길이를 계산하지 않고 길이 값도 NaN이 된다.\n",
    "# test_length = test_no_nan_df['document'].str.len()"
   ]
  },
  {
   "cell_type": "code",
   "execution_count": null,
   "metadata": {},
   "outputs": [],
   "source": [
    "# print(train_length)\n",
    "train_length.head()"
   ]
  },
  {
   "cell_type": "code",
   "execution_count": null,
   "metadata": {},
   "outputs": [],
   "source": [
    "test_length.head()"
   ]
  },
  {
   "cell_type": "code",
   "execution_count": null,
   "metadata": {},
   "outputs": [],
   "source": [
    "train_length.describe()"
   ]
  },
  {
   "cell_type": "code",
   "execution_count": null,
   "metadata": {},
   "outputs": [],
   "source": [
    "test_length.describe()"
   ]
  },
  {
   "cell_type": "code",
   "execution_count": null,
   "metadata": {},
   "outputs": [],
   "source": [
    "import numpy as np"
   ]
  },
  {
   "cell_type": "code",
   "execution_count": null,
   "metadata": {},
   "outputs": [],
   "source": [
    "np.median(train_length) # NaN 값이 있으면 에러\n",
    "# np.nanmedian(train_length) # NaN 값이 있어도 빼고 계산"
   ]
  },
  {
   "cell_type": "code",
   "execution_count": null,
   "metadata": {},
   "outputs": [],
   "source": [
    "print('문자 길이 최대 값: {}'.format(np.max(train_length)))\n",
    "print('문자 길이 최소 값: {}'.format(np.min(train_length)))\n",
    "print('문자 길이 평균 값: {:.2f}'.format(np.mean(train_length)))\n",
    "print('문자 길이 표준편차: {:.2f}'.format(np.std(train_length)))\n",
    "print('문자 길이 중간 값: {}'.format(np.median(train_length)))\n",
    "# 사분위의 대한 경우는 0~100 스케일로 되어있음\n",
    "print('문자 길이 제 1 사분위: {}'.format(np.percentile(train_length, 25))) # nanpercentile()을 쓰면 NaN 값이 있을 때도 에러 안남.\n",
    "print('문자 길이 제 3 사분위: {}'.format(np.percentile(train_length, 75))) # nanpercentile()을 쓰면 NaN 값이 있을 때도 에러 안남."
   ]
  },
  {
   "cell_type": "code",
   "execution_count": null,
   "metadata": {},
   "outputs": [],
   "source": [
    "# 그래프에 대한 이미지 사이즈 선언\n",
    "# figsize: (가로, 세로) 형태의 튜플로 입력\n",
    "plt.figure(figsize=(12, 5))\n",
    "# 히스토그램 선언\n",
    "# bins: 히스토그램 값들에 대한 버켓 범위, bin의 갯수\n",
    "# range: x축 값의 범위\n",
    "# alpha: 그래프 색상 투명도\n",
    "# color: 그래프 색상\n",
    "# label: 그래프에 대한 라벨\n",
    "# range: 이상, 미만\n",
    "plt.hist(train_length, range=(1, 147), bins=146, alpha=0.5, color= 'r',  label='train')\n",
    "plt.yscale('log', nonpositive='clip')\n",
    "# 그래프 제목\n",
    "plt.title('Log-Histogram of length of text')\n",
    "# 그래프 x 축 라벨\n",
    "plt.xlabel('Length of text')\n",
    "# 그래프 y 축 라벨\n",
    "plt.ylabel('Number of text')"
   ]
  },
  {
   "cell_type": "code",
   "execution_count": null,
   "metadata": {},
   "outputs": [],
   "source": [
    "plt.figure(figsize=(12, 5))\n",
    "# 박스플롯 생성\n",
    "# 첫번째 파라메터: 여러 분포에 대한 데이터 리스트를 입력\n",
    "# labels: 입력한 데이터에 대한 라벨\n",
    "# showmeans: 평균값을 마크함\n",
    "\n",
    "plt.boxplot(train_length,\n",
    "             labels=['counts'],\n",
    "             showmeans=True)"
   ]
  },
  {
   "cell_type": "markdown",
   "metadata": {},
   "source": [
    "---\n",
    "#### (나) 단어 수 분포 조사  \n",
    "  - 한국어 문어체는 띄어쓰기로만 단어를 분리해 낼 수 없으나, 간단하게 띄어쓰기로 분석해 본다."
   ]
  },
  {
   "cell_type": "code",
   "execution_count": null,
   "metadata": {},
   "outputs": [],
   "source": [
    "train_word_counts = train_no_nan_df['document'].apply(lambda x:len(x.split(' ')))"
   ]
  },
  {
   "cell_type": "code",
   "execution_count": null,
   "metadata": {},
   "outputs": [],
   "source": [
    "train_word_counts.describe()"
   ]
  },
  {
   "cell_type": "code",
   "execution_count": null,
   "metadata": {},
   "outputs": [],
   "source": [
    "plt.figure(figsize=(12, 5))\n",
    "plt.hist(train_word_counts,  range=(1, 42), bins=41, facecolor='r', label='train')\n",
    "plt.title('Log-Histogram of word count in text', fontsize=15)\n",
    "plt.yscale('log', nonpositive='clip')\n",
    "plt.legend()\n",
    "plt.xlabel('Number of words', fontsize=15)\n",
    "plt.ylabel('Number of text', fontsize=15)"
   ]
  },
  {
   "cell_type": "code",
   "execution_count": null,
   "metadata": {},
   "outputs": [],
   "source": [
    "print('문자 단어 개수 최대 값: {}'.format(np.max(train_word_counts)))\n",
    "print('문자 단어 개수 최소 값: {}'.format(np.min(train_word_counts)))\n",
    "print('문자 단어 개수 평균 값: {:.2f}'.format(np.mean(train_word_counts)))\n",
    "print('문자 단어 개수 표준편차: {:.2f}'.format(np.std(train_word_counts)))\n",
    "print('문자 단어 개수 중간 값: {}'.format(np.median(train_word_counts)))\n",
    "# 사분위의 대한 경우는 0~100 스케일로 되어있음\n",
    "print('문자 단어 개수 제 1 사분위: {}'.format(np.percentile(train_word_counts, 25)))\n",
    "print('문자 단어 개수 제 3 사분위: {}'.format(np.percentile(train_word_counts, 75)))"
   ]
  },
  {
   "cell_type": "markdown",
   "metadata": {},
   "source": [
    "---\n",
    "### 5) 워드 클라우드"
   ]
  },
  {
   "cell_type": "code",
   "execution_count": null,
   "metadata": {},
   "outputs": [],
   "source": [
    "# Get all the positive and negative\n",
    "neg_msg = train_no_nan_df[train_no_nan_df.label == 0]['document']\n",
    "pos_msg = train_no_nan_df[train_no_nan_df.label == 1]['document']"
   ]
  },
  {
   "cell_type": "code",
   "execution_count": null,
   "metadata": {},
   "outputs": [],
   "source": [
    "neg_msg.shape"
   ]
  },
  {
   "cell_type": "code",
   "execution_count": null,
   "metadata": {},
   "outputs": [],
   "source": [
    "pos_msg.shape"
   ]
  },
  {
   "cell_type": "code",
   "execution_count": null,
   "metadata": {},
   "outputs": [],
   "source": [
    "75170 + 74825"
   ]
  },
  {
   "cell_type": "code",
   "execution_count": null,
   "metadata": {},
   "outputs": [],
   "source": [
    "pos_msg"
   ]
  },
  {
   "cell_type": "code",
   "execution_count": null,
   "metadata": {},
   "outputs": [],
   "source": [
    "pos_txt = \" \".join(pos_msg)"
   ]
  },
  {
   "cell_type": "code",
   "execution_count": null,
   "metadata": {},
   "outputs": [],
   "source": [
    "len(pos_txt)"
   ]
  },
  {
   "cell_type": "code",
   "execution_count": null,
   "metadata": {},
   "outputs": [],
   "source": [
    "from wordcloud import WordCloud"
   ]
  },
  {
   "cell_type": "code",
   "execution_count": null,
   "metadata": {},
   "outputs": [],
   "source": [
    "# 긍정 평가 데이터 워드 클라우드 표현\n",
    "cloud = WordCloud(font_path='fonts/NanumGothic.ttf', width=800, height=600).generate(pos_txt)\n",
    "plt.figure(figsize=(20, 15))\n",
    "plt.imshow(cloud)\n",
    "plt.axis('off')"
   ]
  },
  {
   "cell_type": "code",
   "execution_count": null,
   "metadata": {},
   "outputs": [],
   "source": [
    "neg_txt = \" \".join(neg_msg)"
   ]
  },
  {
   "cell_type": "code",
   "execution_count": null,
   "metadata": {},
   "outputs": [],
   "source": [
    "# 부정 평가 워드 클라우드 표현\n",
    "cloud = WordCloud(font_path='fonts/NanumGothic.ttf', width=800, height=600).generate(neg_txt)\n",
    "plt.figure(figsize=(20, 15))\n",
    "plt.imshow(cloud)\n",
    "plt.axis('off')"
   ]
  }
 ],
 "metadata": {
  "kernelspec": {
   "display_name": "Python 3",
   "language": "python",
   "name": "python3"
  },
  "language_info": {
   "codemirror_mode": {
    "name": "ipython",
    "version": 3
   },
   "file_extension": ".py",
   "mimetype": "text/x-python",
   "name": "python",
   "nbconvert_exporter": "python",
   "pygments_lexer": "ipython3",
   "version": "3.7.7"
  }
 },
 "nbformat": 4,
 "nbformat_minor": 4
}
