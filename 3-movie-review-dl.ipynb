{
 "cells": [
  {
   "cell_type": "markdown",
   "metadata": {},
   "source": [
    "# III. 영화 리뷰 데이터 딥러닝 트레이닝과 추론"
   ]
  },
  {
   "cell_type": "markdown",
   "metadata": {},
   "source": [
    "---\n",
    "### 1) 데이터 로드 : dataframe"
   ]
  },
  {
   "cell_type": "code",
   "execution_count": 1,
   "metadata": {},
   "outputs": [],
   "source": [
    "import os\n",
    "import pickle"
   ]
  },
  {
   "cell_type": "code",
   "execution_count": 2,
   "metadata": {},
   "outputs": [],
   "source": [
    "DATA_DIR = 'data'\n",
    "PROCESSED_DATA_DIR = os.path.join(DATA_DIR, 'processed')\n",
    "\n",
    "PROCESSED_DATA_FILE = \"train_padded.p\"\n",
    "PROCESSED_LABEL_FILE = \"train_label.p\"\n",
    "\n",
    "PROCESSED_DATA_PATH = os.path.join(PROCESSED_DATA_DIR, PROCESSED_DATA_FILE)\n",
    "PROCESSED_LABEL_PATH = os.path.join(PROCESSED_DATA_DIR, PROCESSED_LABEL_FILE)"
   ]
  },
  {
   "cell_type": "code",
   "execution_count": 3,
   "metadata": {},
   "outputs": [],
   "source": [
    "with open(PROCESSED_DATA_PATH, \"rb\" ) as file:\n",
    "    train_padded = pickle.load(file)\n",
    "with open(PROCESSED_LABEL_PATH, \"rb\" ) as file:\n",
    "    train_y = pickle.load(file)    "
   ]
  },
  {
   "cell_type": "code",
   "execution_count": 4,
   "metadata": {},
   "outputs": [
    {
     "data": {
      "text/plain": [
       "array([[  539,    31,   197,     7,    30,   649,     0,     0,     0,\n",
       "            0,     0,     0,     0,     0,     0,     0,     0,     0,\n",
       "            0,     0,     0,     0,     0,     0,     0,     0,     0,\n",
       "            0,     0,     0],\n",
       "       [  875,   453,     3,     1,   738,   663,     6,    35,   361,\n",
       "            0,     0,     0,     0,     0,     0,     0,     0,     0,\n",
       "            0,     0,     0,     0,     0,     0,     0,     0,     0,\n",
       "            0,     0,     0],\n",
       "       [    1,   545,    20,   237,     0,     0,     0,     0,     0,\n",
       "            0,     0,     0,     0,     0,     0,     0,     0,     0,\n",
       "            0,     0,     0,     0,     0,     0,     0,     0,     0,\n",
       "            0,     0,     0],\n",
       "       [ 6323,   130,  2991,   250,    70,     9,    44,  2943,     0,\n",
       "            0,     0,     0,     0,     0,     0,     0,     0,     0,\n",
       "            0,     0,     0,     0,     0,     0,     0,     0,     0,\n",
       "            0,     0,     0],\n",
       "       [    1,  6950,   386,   940,    39,   792,    45,     2,  2359,\n",
       "         1064,     4,    91,    19,    13,    45, 12391,   681,     1,\n",
       "          381,   290,     4,    91,     0,     0,     0,     0,     0,\n",
       "            0,     0,     0]], dtype=int32)"
      ]
     },
     "execution_count": 4,
     "metadata": {},
     "output_type": "execute_result"
    }
   ],
   "source": [
    "#data 확인\n",
    "train_padded[:5]"
   ]
  },
  {
   "cell_type": "code",
   "execution_count": 5,
   "metadata": {},
   "outputs": [
    {
     "data": {
      "text/plain": [
       "0         0\n",
       "1         1\n",
       "2         0\n",
       "3         0\n",
       "4         1\n",
       "         ..\n",
       "149993    1\n",
       "149994    1\n",
       "149995    0\n",
       "149997    0\n",
       "149998    1\n",
       "Name: label, Length: 143460, dtype: int64"
      ]
     },
     "execution_count": 5,
     "metadata": {},
     "output_type": "execute_result"
    }
   ],
   "source": [
    "train_y"
   ]
  },
  {
   "cell_type": "code",
   "execution_count": 6,
   "metadata": {},
   "outputs": [],
   "source": [
    "# json file로 저장된 tokenizer를 읽어서 num_workds 값을 얻는다. 이 값은 vocab_size로 사용한다.\n",
    "\n",
    "TOKENIZED_FILE = 'tokenized.json'\n",
    "TOKENIZED_PATH = os.path.join(DATA_DIR, TOKENIZED_FILE)\n",
    "\n",
    "import json\n",
    "from tensorflow.keras.preprocessing.text import tokenizer_from_json\n",
    "\n",
    "with open(TOKENIZED_PATH) as f:\n",
    "    data = json.load(f)\n",
    "    tokenizer = tokenizer_from_json(data)"
   ]
  },
  {
   "cell_type": "code",
   "execution_count": 7,
   "metadata": {},
   "outputs": [],
   "source": [
    "vocab_size = tokenizer.get_config()['num_words']"
   ]
  },
  {
   "cell_type": "markdown",
   "metadata": {},
   "source": [
    "---\n",
    "### 2) 모델 만들기와 트레이닝"
   ]
  },
  {
   "cell_type": "code",
   "execution_count": 8,
   "metadata": {},
   "outputs": [],
   "source": [
    "train_X = train_padded"
   ]
  },
  {
   "cell_type": "code",
   "execution_count": 9,
   "metadata": {},
   "outputs": [
    {
     "data": {
      "text/plain": [
       "array([[  539,    31,   197, ...,     0,     0,     0],\n",
       "       [  875,   453,     3, ...,     0,     0,     0],\n",
       "       [    1,   545,    20, ...,     0,     0,     0],\n",
       "       ...,\n",
       "       [  223, 11392,   632, ...,     0,     0,     0],\n",
       "       [    5,    42,   124, ...,     0,     0,     0],\n",
       "       [  922,     2,   860, ...,     0,     0,     0]], dtype=int32)"
      ]
     },
     "execution_count": 9,
     "metadata": {},
     "output_type": "execute_result"
    }
   ],
   "source": [
    "train_X"
   ]
  },
  {
   "cell_type": "code",
   "execution_count": 10,
   "metadata": {},
   "outputs": [
    {
     "data": {
      "text/plain": [
       "(143460, 30)"
      ]
     },
     "execution_count": 10,
     "metadata": {},
     "output_type": "execute_result"
    }
   ],
   "source": [
    "train_X.shape"
   ]
  },
  {
   "cell_type": "code",
   "execution_count": 11,
   "metadata": {},
   "outputs": [],
   "source": [
    "train_Y = train_y"
   ]
  },
  {
   "cell_type": "markdown",
   "metadata": {},
   "source": [
    "---\n",
    "#### (가) 네트워크 모델 설정"
   ]
  },
  {
   "cell_type": "code",
   "execution_count": 12,
   "metadata": {},
   "outputs": [],
   "source": [
    "from tensorflow.keras.layers import Embedding, Dense, LSTM\n",
    "from tensorflow.keras.models import Sequential\n",
    "from tensorflow.keras.models import load_model\n",
    "from tensorflow.keras.callbacks import EarlyStopping, ModelCheckpoint"
   ]
  },
  {
   "cell_type": "code",
   "execution_count": null,
   "metadata": {},
   "outputs": [],
   "source": [
    "max_len = 30"
   ]
  },
  {
   "cell_type": "code",
   "execution_count": 13,
   "metadata": {},
   "outputs": [],
   "source": [
    "model = Sequential()\n",
    "model.add(Embedding(vocab_size, 100))\n",
    "model.add(LSTM(128))\n",
    "model.add(Dense(1, activation='sigmoid'))"
   ]
  },
  {
   "cell_type": "code",
   "execution_count": 14,
   "metadata": {},
   "outputs": [
    {
     "name": "stdout",
     "output_type": "stream",
     "text": [
      "Model: \"sequential\"\n",
      "_________________________________________________________________\n",
      "Layer (type)                 Output Shape              Param #   \n",
      "=================================================================\n",
      "embedding (Embedding)        (None, None, 100)         1719900   \n",
      "_________________________________________________________________\n",
      "lstm (LSTM)                  (None, 128)               117248    \n",
      "_________________________________________________________________\n",
      "dense (Dense)                (None, 1)                 129       \n",
      "=================================================================\n",
      "Total params: 1,837,277\n",
      "Trainable params: 1,837,277\n",
      "Non-trainable params: 0\n",
      "_________________________________________________________________\n"
     ]
    }
   ],
   "source": [
    "model.summary()"
   ]
  },
  {
   "cell_type": "code",
   "execution_count": 15,
   "metadata": {},
   "outputs": [],
   "source": [
    "MODEL_DIR = 'model'\n",
    "os.makedirs(MODEL_DIR, exist_ok=True)"
   ]
  },
  {
   "cell_type": "code",
   "execution_count": 16,
   "metadata": {},
   "outputs": [
    {
     "data": {
      "image/png": "[encoded data removed]",
      "text/plain": [
       "<IPython.core.display.Image object>"
      ]
     },
     "execution_count": 16,
     "metadata": {},
     "output_type": "execute_result"
    }
   ],
   "source": [
    "MODEL_SUMMARY_FILE = \"movie_review_model.png\"\n",
    "MODEL_SUMMARY_PATH = os.path.join(MODEL_DIR, MODEL_SUMMARY_FILE)\n",
    "\n",
    "from tensorflow.keras.utils import plot_model\n",
    "# tf.keras.utils.plot_model(model, to_file = model_dir + 'cifar10_cnn_model.png', show_shapes=True)\n",
    "plot_model(model, to_file = MODEL_SUMMARY_PATH, show_shapes=True)"
   ]
  },
  {
   "cell_type": "code",
   "execution_count": 17,
   "metadata": {},
   "outputs": [],
   "source": [
    "es = EarlyStopping(monitor='val_loss', mode='min', verbose=1, patience=4)\n",
    "\n",
    "MODEL_FILE = \"best_model.h5\"\n",
    "MODEL_PATH = os.path.join(MODEL_DIR, MODEL_FILE)\n",
    "\n",
    "mc = ModelCheckpoint(MODEL_PATH, monitor='val_acc', mode='max', verbose=1, save_best_only=True)"
   ]
  },
  {
   "cell_type": "code",
   "execution_count": 18,
   "metadata": {},
   "outputs": [],
   "source": [
    "model.compile(loss='binary_crossentropy', optimizer='rmsprop', metrics=['acc'])"
   ]
  },
  {
   "cell_type": "code",
   "execution_count": 19,
   "metadata": {},
   "outputs": [
    {
     "name": "stdout",
     "output_type": "stream",
     "text": [
      "Train on 114768 samples, validate on 28692 samples\n",
      "Epoch 1/15\n",
      "114600/114768 [============================>.] - ETA: 0s - loss: 0.4388 - acc: 0.7943\n",
      "Epoch 00001: val_acc improved from -inf to 0.83034, saving model to model/best_model.h5\n",
      "114768/114768 [==============================] - 50s 433us/sample - loss: 0.4387 - acc: 0.7944 - val_loss: 0.3911 - val_acc: 0.8303\n",
      "Epoch 2/15\n",
      "114600/114768 [============================>.] - ETA: 0s - loss: 0.3613 - acc: 0.8429\n",
      "Epoch 00002: val_acc improved from 0.83034 to 0.83734, saving model to model/best_model.h5\n",
      "114768/114768 [==============================] - 51s 444us/sample - loss: 0.3613 - acc: 0.8429 - val_loss: 0.3649 - val_acc: 0.8373\n",
      "Epoch 3/15\n",
      "114600/114768 [============================>.] - ETA: 0s - loss: 0.3331 - acc: 0.8568\n",
      "Epoch 00003: val_acc improved from 0.83734 to 0.84330, saving model to model/best_model.h5\n",
      "114768/114768 [==============================] - 50s 439us/sample - loss: 0.3330 - acc: 0.8568 - val_loss: 0.3578 - val_acc: 0.8433\n",
      "Epoch 4/15\n",
      "114600/114768 [============================>.] - ETA: 0s - loss: 0.3116 - acc: 0.8680\n",
      "Epoch 00004: val_acc did not improve from 0.84330\n",
      "114768/114768 [==============================] - 50s 437us/sample - loss: 0.3116 - acc: 0.8680 - val_loss: 0.3563 - val_acc: 0.8407\n",
      "Epoch 5/15\n",
      "114600/114768 [============================>.] - ETA: 0s - loss: 0.2948 - acc: 0.8759\n",
      "Epoch 00005: val_acc improved from 0.84330 to 0.84867, saving model to model/best_model.h5\n",
      "114768/114768 [==============================] - 50s 435us/sample - loss: 0.2947 - acc: 0.8759 - val_loss: 0.3587 - val_acc: 0.8487\n",
      "Epoch 6/15\n",
      "114600/114768 [============================>.] - ETA: 0s - loss: 0.2790 - acc: 0.8842\n",
      "Epoch 00006: val_acc improved from 0.84867 to 0.84912, saving model to model/best_model.h5\n",
      "114768/114768 [==============================] - 50s 433us/sample - loss: 0.2791 - acc: 0.8841 - val_loss: 0.3459 - val_acc: 0.8491\n",
      "Epoch 7/15\n",
      "114600/114768 [============================>.] - ETA: 0s - loss: 0.2644 - acc: 0.8920\n",
      "Epoch 00007: val_acc did not improve from 0.84912\n",
      "114768/114768 [==============================] - 51s 441us/sample - loss: 0.2645 - acc: 0.8920 - val_loss: 0.3481 - val_acc: 0.8473\n",
      "Epoch 8/15\n",
      "114600/114768 [============================>.] - ETA: 0s - loss: 0.2497 - acc: 0.8981\n",
      "Epoch 00008: val_acc improved from 0.84912 to 0.84957, saving model to model/best_model.h5\n",
      "114768/114768 [==============================] - 50s 438us/sample - loss: 0.2496 - acc: 0.8982 - val_loss: 0.3729 - val_acc: 0.8496\n",
      "Epoch 9/15\n",
      "114600/114768 [============================>.] - ETA: 0s - loss: 0.2364 - acc: 0.9047\n",
      "Epoch 00009: val_acc did not improve from 0.84957\n",
      "114768/114768 [==============================] - 51s 441us/sample - loss: 0.2364 - acc: 0.9048 - val_loss: 0.3694 - val_acc: 0.8445\n",
      "Epoch 10/15\n",
      "114600/114768 [============================>.] - ETA: 0s - loss: 0.2235 - acc: 0.9107\n",
      "Epoch 00010: val_acc did not improve from 0.84957\n",
      "114768/114768 [==============================] - 50s 431us/sample - loss: 0.2235 - acc: 0.9106 - val_loss: 0.3772 - val_acc: 0.8435\n",
      "Epoch 00010: early stopping\n"
     ]
    }
   ],
   "source": [
    "history = model.fit(train_X, train_y, epochs=15, callbacks=[es, mc], batch_size=300, validation_split=0.2)"
   ]
  },
  {
   "cell_type": "code",
   "execution_count": 20,
   "metadata": {},
   "outputs": [
    {
     "name": "stdout",
     "output_type": "stream",
     "text": [
      "dict_keys(['loss', 'acc', 'val_loss', 'val_acc'])\n"
     ]
    }
   ],
   "source": [
    "print(history.history.keys())"
   ]
  },
  {
   "cell_type": "code",
   "execution_count": 21,
   "metadata": {},
   "outputs": [],
   "source": [
    "import matplotlib.pyplot as plt"
   ]
  },
  {
   "cell_type": "code",
   "execution_count": 22,
   "metadata": {},
   "outputs": [
    {
     "data": {
      "image/png": "[encoded data removed]",
      "text/plain": [
       "<Figure size 432x288 with 1 Axes>"
      ]
     },
     "metadata": {
      "needs_background": "light"
     },
     "output_type": "display_data"
    }
   ],
   "source": [
    "# loss 측정값의 시각화 입니다.  \n",
    "\n",
    "loss = history.history['loss']\n",
    "val_loss = history.history['val_loss']\n",
    "epochs = range(1,len(loss)+1)\n",
    "\n",
    "plt.plot(epochs,loss,label='Training Loss')\n",
    "plt.plot(epochs,val_loss,label='Validation Loss')\n",
    "plt.title('Training and Validation Loss')\n",
    "plt.xlabel('Epochs')\n",
    "plt.ylabel('Loss')\n",
    "plt.legend()\n",
    "\n",
    "plt.show()"
   ]
  },
  {
   "cell_type": "code",
   "execution_count": 23,
   "metadata": {},
   "outputs": [
    {
     "data": {
      "image/png": "[encoded data removed]",
      "text/plain": [
       "<Figure size 432x288 with 1 Axes>"
      ]
     },
     "metadata": {
      "needs_background": "light"
     },
     "output_type": "display_data"
    }
   ],
   "source": [
    "# accuracy 측정값의 시각화 입니다.  \n",
    "\n",
    "acc = history.history['acc']\n",
    "val_acc = history.history['val_acc']\n",
    "epochs = range(1,len(loss)+1)\n",
    "plt.plot(epochs,acc,label='Training Accuarcy')\n",
    "plt.plot(epochs,val_acc,label='Validation Accuarcy')\n",
    "plt.title('Training and Validation Accuarcy')\n",
    "plt.xlabel('Epochs')\n",
    "plt.ylabel('Accuarcy')\n",
    "plt.legend()\n",
    "\n",
    "plt.show()"
   ]
  },
  {
   "cell_type": "markdown",
   "metadata": {},
   "source": [
    "---\n",
    "### 10) 테스트 ; 추론(Inference)"
   ]
  },
  {
   "cell_type": "markdown",
   "metadata": {},
   "source": [
    "#### (가) 데스트 데이터로 평가"
   ]
  },
  {
   "cell_type": "code",
   "execution_count": 24,
   "metadata": {},
   "outputs": [],
   "source": [
    "PROCESSED_TEST_DATA_FILE = \"test_padded.p\"\n",
    "PROCESSED_TEST_LABEL_FILE = \"test_label.p\"\n",
    "\n",
    "PROCESSED_TEST_DATA_PATH = os.path.join(PROCESSED_DATA_DIR, PROCESSED_TEST_DATA_FILE)\n",
    "PROCESSED_TEST_LABEL_PATH = os.path.join(PROCESSED_DATA_DIR, PROCESSED_TEST_LABEL_FILE)"
   ]
  },
  {
   "cell_type": "code",
   "execution_count": 25,
   "metadata": {},
   "outputs": [],
   "source": [
    "with open(PROCESSED_TEST_DATA_PATH, \"rb\" ) as file:\n",
    "    test_padded = pickle.load(file)\n",
    "with open(PROCESSED_TEST_LABEL_PATH, \"rb\" ) as file:\n",
    "    test_y = pickle.load(file)    "
   ]
  },
  {
   "cell_type": "code",
   "execution_count": 26,
   "metadata": {},
   "outputs": [
    {
     "name": "stdout",
     "output_type": "stream",
     "text": [
      "Evaluate on test data\n",
      "48342/48342 [==============================] - 7s 154us/sample - loss: 0.3968 - acc: 0.8239\n",
      "test loss, test acc: [0.39679258310436283, 0.82385916]\n"
     ]
    }
   ],
   "source": [
    "test_X = test_padded\n",
    "test_Y = test_y\n",
    "# Evaluate the model on the test data using `evaluate`\n",
    "print(\"Evaluate on test data\")\n",
    "results = model.evaluate(test_X, test_Y, batch_size=128)\n",
    "print(\"test loss, test acc:\", results)"
   ]
  },
  {
   "cell_type": "code",
   "execution_count": 27,
   "metadata": {},
   "outputs": [
    {
     "name": "stdout",
     "output_type": "stream",
     "text": [
      "Generate predictions for 3 samples\n",
      "predictions shape: (3, 1)\n"
     ]
    }
   ],
   "source": [
    "# Generate predictions (probabilities -- the output of the last layer)\n",
    "# on new data using `predict`\n",
    "print(\"Generate predictions for 3 samples\")\n",
    "predictions = model.predict(test_X[:3])\n",
    "print(\"predictions shape:\", predictions.shape)"
   ]
  },
  {
   "cell_type": "code",
   "execution_count": 28,
   "metadata": {},
   "outputs": [
    {
     "data": {
      "text/plain": [
       "array([[0.97842157],\n",
       "       [0.03306741],\n",
       "       [0.00683609]], dtype=float32)"
      ]
     },
     "execution_count": 28,
     "metadata": {},
     "output_type": "execute_result"
    }
   ],
   "source": [
    "predictions"
   ]
  },
  {
   "cell_type": "markdown",
   "metadata": {},
   "source": [
    "#### (나) 문장을 입력하여 추론하는 프로그램\n",
    "  1. 형태소 분석\n",
    "  2. 시퀀스 만들기\n",
    "  3. 패딩\n",
    "  4. 추론 : model.predict()"
   ]
  },
  {
   "cell_type": "code",
   "execution_count": 29,
   "metadata": {},
   "outputs": [],
   "source": [
    "def get_morphed_word(wiki_result):\n",
    "    # print('wiki_result : ', wiki_result[0][0])\n",
    "    txt = []\n",
    "    for i in wiki_result[0][0]:\n",
    "        txt.append(i[0])\n",
    "    # print('wiki_result, txt : ', txt)\n",
    "    \n",
    "    return txt"
   ]
  },
  {
   "cell_type": "code",
   "execution_count": 30,
   "metadata": {},
   "outputs": [],
   "source": [
    "from kiwipiepy import Kiwi\n",
    "# 형태소 분석 함수\n",
    "def get_morph(input_text):\n",
    "    # print('get_morph : ', input_text)\n",
    "    kiwi = Kiwi()\n",
    "    kiwi.prepare()\n",
    "    morphed = get_morphed_word(kiwi.analyze(input_text))\n",
    "    # print('morphed : ', morphed)\n",
    "    \n",
    "    return morphed"
   ]
  },
  {
   "cell_type": "code",
   "execution_count": 32,
   "metadata": {},
   "outputs": [],
   "source": [
    "# max_len = 30 # 시퀀스의 길이를 30으로 고정\n",
    "trunc_type = \"post\" # 길이가 30 보다 길 때 뒷 부분을 버린다. \n",
    "padding_type = \"post\" # 길이가 30 보다 짧을 대 뒷 부분을 0으로 채운다.\n",
    "\n",
    "# padding : 뒤를 0으로 채운다.\n",
    "from tensorflow.keras.preprocessing.sequence import pad_sequences\n",
    "\n",
    "def sentiment_predict(sentence):\n",
    "    morphed = get_morph(sentence)\n",
    "    # print(morphed)\n",
    "    encoded = tokenizer.texts_to_sequences([morphed]) # 정수 인코딩\n",
    "    # print('encoded : ', encoded)\n",
    "    padded = pad_sequences(encoded, maxlen = max_len, padding=padding_type, truncating=trunc_type) # 패딩\n",
    "    # print(padded)\n",
    "    score = float(model.predict(padded)) # 예측\n",
    "    \n",
    "    if(score > 0.5):\n",
    "        print(\"{:.2f}% 확률로 긍정 리뷰입니다.\\n\".format(score * 100))\n",
    "    else:\n",
    "        print(\"{:.2f}% 확률로 부정 리뷰입니다.\\n\".format((1 - score) * 100))"
   ]
  },
  {
   "cell_type": "code",
   "execution_count": 33,
   "metadata": {},
   "outputs": [],
   "source": [
    "input_txt = '이 영화 정말 재밌네!'"
   ]
  },
  {
   "cell_type": "code",
   "execution_count": 34,
   "metadata": {},
   "outputs": [
    {
     "name": "stdout",
     "output_type": "stream",
     "text": [
      "89.45% 확률로 긍정 리뷰입니다.\n",
      "\n"
     ]
    }
   ],
   "source": [
    "sentiment_predict(input_txt)"
   ]
  },
  {
   "cell_type": "code",
   "execution_count": 35,
   "metadata": {},
   "outputs": [
    {
     "name": "stdout",
     "output_type": "stream",
     "text": [
      "96.03% 확률로 긍정 리뷰입니다.\n",
      "\n"
     ]
    }
   ],
   "source": [
    "sentiment_predict('이 영화 개꿀잼 ㅋㅋㅋ')"
   ]
  },
  {
   "cell_type": "code",
   "execution_count": 36,
   "metadata": {},
   "outputs": [
    {
     "name": "stdout",
     "output_type": "stream",
     "text": [
      "99.22% 확률로 부정 리뷰입니다.\n",
      "\n"
     ]
    }
   ],
   "source": [
    "sentiment_predict('이 영화 핵노잼')"
   ]
  },
  {
   "cell_type": "code",
   "execution_count": 37,
   "metadata": {},
   "outputs": [
    {
     "name": "stdout",
     "output_type": "stream",
     "text": [
      "59.81% 확률로 부정 리뷰입니다.\n",
      "\n"
     ]
    }
   ],
   "source": [
    "sentiment_predict('뭐 이런 영화가 다있어?')"
   ]
  },
  {
   "cell_type": "code",
   "execution_count": 38,
   "metadata": {},
   "outputs": [
    {
     "name": "stdout",
     "output_type": "stream",
     "text": [
      "98.47% 확률로 부정 리뷰입니다.\n",
      "\n"
     ]
    }
   ],
   "source": [
    "sentiment_predict('이 영화 핵노잼 ㅠㅠ')"
   ]
  },
  {
   "cell_type": "code",
   "execution_count": 39,
   "metadata": {},
   "outputs": [
    {
     "name": "stdout",
     "output_type": "stream",
     "text": [
      "98.49% 확률로 부정 리뷰입니다.\n",
      "\n"
     ]
    }
   ],
   "source": [
    "sentiment_predict('이딴게 영화냐 ㅉㅉ')"
   ]
  },
  {
   "cell_type": "code",
   "execution_count": 40,
   "metadata": {},
   "outputs": [
    {
     "name": "stdout",
     "output_type": "stream",
     "text": [
      "94.34% 확률로 부정 리뷰입니다.\n",
      "\n"
     ]
    }
   ],
   "source": [
    "sentiment_predict('감독 뭐하는 놈이냐?')"
   ]
  },
  {
   "cell_type": "code",
   "execution_count": 41,
   "metadata": {},
   "outputs": [
    {
     "name": "stdout",
     "output_type": "stream",
     "text": [
      "82.37% 확률로 긍정 리뷰입니다.\n",
      "\n"
     ]
    }
   ],
   "source": [
    "sentiment_predict('와 개쩐다 정말 세계관 최강자들의 영화다')"
   ]
  },
  {
   "cell_type": "code",
   "execution_count": 42,
   "metadata": {},
   "outputs": [
    {
     "name": "stdout",
     "output_type": "stream",
     "text": [
      "94.21% 확률로 긍정 리뷰입니다.\n",
      "\n"
     ]
    }
   ],
   "source": [
    "sentiment_predict('재미있네요.')"
   ]
  },
  {
   "cell_type": "code",
   "execution_count": null,
   "metadata": {},
   "outputs": [],
   "source": []
  }
 ],
 "metadata": {
  "kernelspec": {
   "display_name": "Python 3",
   "language": "python",
   "name": "python3"
  },
  "language_info": {
   "codemirror_mode": {
    "name": "ipython",
    "version": 3
   },
   "file_extension": ".py",
   "mimetype": "text/x-python",
   "name": "python",
   "nbconvert_exporter": "python",
   "pygments_lexer": "ipython3",
   "version": "3.7.7"
  }
 },
 "nbformat": 4,
 "nbformat_minor": 4
}
